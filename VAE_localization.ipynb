{
  "nbformat": 4,
  "nbformat_minor": 0,
  "metadata": {
    "accelerator": "GPU",
    "colab": {
      "name": "Copy of VAE localization.ipynb",
      "provenance": [],
      "private_outputs": true,
      "collapsed_sections": [],
      "toc_visible": true
    },
    "kernelspec": {
      "display_name": "Python 3",
      "name": "python3"
    }
  },
  "cells": [
    {
      "cell_type": "markdown",
      "metadata": {
        "id": "xfNT-mlFwxVM"
      },
      "source": [
        "## Convolutional Variational Autoencoder"
      ]
    },
    {
      "cell_type": "markdown",
      "metadata": {
        "id": "e1_Y75QXJS6h"
      },
      "source": [
        "## Import TensorFlow and other libraries"
      ]
    },
    {
      "cell_type": "code",
      "metadata": {
        "id": "YfIk2es3hJEd"
      },
      "source": [
        "try:\n",
        "  # %tensorflow_version only exists in Colab.\n",
        "  %tensorflow_version 2.x\n",
        "except Exception:\n",
        "  pass\n",
        "import tensorflow as tf\n",
        "\n",
        "import numpy as np\n",
        "import matplotlib.pyplot as plt\n",
        "import time\n",
        "from matplotlib import offsetbox\n",
        "from sklearn import (manifold, datasets, decomposition, ensemble,\n",
        "                     discriminant_analysis, random_projection, neighbors)"
      ],
      "execution_count": null,
      "outputs": []
    },
    {
      "cell_type": "markdown",
      "metadata": {
        "id": "iYn4MdZnKCey"
      },
      "source": [
        "## Load the MNIST dataset\n",
        "Each MNIST image is originally a vector of 784 integers, each of which is between 0-255 and represents the intensity of a pixel. We model each pixel with a Bernoulli distribution in our model, and we statically binarize the dataset."
      ]
    },
    {
      "cell_type": "code",
      "metadata": {
        "id": "a4fYMGxGhrna"
      },
      "source": [
        "(train_images, train_labels), (test_images, test_labels) = tf.keras.datasets.mnist.load_data()"
      ],
      "execution_count": null,
      "outputs": []
    },
    {
      "cell_type": "markdown",
      "metadata": {
        "id": "2R1swDDOAgWi"
      },
      "source": [
        "As a localization target, we can use the specific manner in which some digit is written. Thus, VAE can be trained on a single digit."
      ]
    },
    {
      "cell_type": "code",
      "metadata": {
        "id": "3Tt71aTSAJE-"
      },
      "source": [
        "mask = (train_labels == 2) | (train_labels == 7)\n",
        "mask2 = (test_labels == 2) | (test_labels == 7)\n",
        "train_images = train_images[mask]\n",
        "test_images = test_images[mask2]"
      ],
      "execution_count": null,
      "outputs": []
    },
    {
      "cell_type": "code",
      "metadata": {
        "id": "NFC2ghIdiZYE"
      },
      "source": [
        "train_images = train_images.reshape(train_images.shape[0], 28, 28, 1).astype('float32')\n",
        "test_images = test_images.reshape(test_images.shape[0], 28, 28, 1).astype('float32')\n",
        "\n",
        "# Normalizing the images to the range of [0., 1.]\n",
        "train_images /= 255.\n",
        "test_images /= 255.\n",
        "\n",
        "# Binarization\n",
        "\n",
        "train_images[train_images >= .5] = 1.\n",
        "train_images[train_images < .5] = 0.\n",
        "test_images[test_images >= .5] = 1.\n",
        "test_images[test_images < .5] = 0.\n"
      ],
      "execution_count": null,
      "outputs": []
    },
    {
      "cell_type": "code",
      "metadata": {
        "id": "S4PIDhoDLbsZ"
      },
      "source": [
        "TRAIN_BUF = 60000\n",
        "BATCH_SIZE = 100\n",
        "\n",
        "TEST_BUF = 10000"
      ],
      "execution_count": null,
      "outputs": []
    },
    {
      "cell_type": "markdown",
      "metadata": {
        "id": "ma1syJyMvX2f"
      },
      "source": [
        "Visualize some of the training images"
      ]
    },
    {
      "cell_type": "code",
      "metadata": {
        "id": "EZ4sIvxWvaU3"
      },
      "source": [
        "fig = plt.figure(figsize=(5,5))\n",
        "for i in range(25):\n",
        "  plt.subplot(5, 5, i+1)\n",
        "  plt.imshow(train_images[i, :, :, 0], cmap='gray')\n",
        "  plt.axis('off')\n",
        "plt.show()"
      ],
      "execution_count": null,
      "outputs": []
    },
    {
      "cell_type": "markdown",
      "metadata": {
        "id": "PIGN6ouoQxt3"
      },
      "source": [
        "## Use *tf.data* to create batches and shuffle the dataset"
      ]
    },
    {
      "cell_type": "code",
      "metadata": {
        "id": "-yKCCQOoJ7cn"
      },
      "source": [
        "train_dataset = tf.data.Dataset.from_tensor_slices(train_images).shuffle(TRAIN_BUF).batch(BATCH_SIZE)\n",
        "test_dataset = tf.data.Dataset.from_tensor_slices(test_images).shuffle(TEST_BUF).batch(BATCH_SIZE)"
      ],
      "execution_count": null,
      "outputs": []
    },
    {
      "cell_type": "markdown",
      "metadata": {
        "id": "THY-sZMiQ4UV"
      },
      "source": [
        "## Wire up the generative and inference network with *tf.keras.Sequential*\n",
        "\n",
        "In our VAE example, we use two small ConvNets for the generative and inference network. Since these neural nets are small, we use `tf.keras.Sequential` to simplify our code. Let $x$ and $z$ denote the observation and latent variable respectively in the following descriptions.\n",
        "\n",
        "### Generative Network\n",
        "This defines the generative model which takes a latent encoding as input, and outputs the parameters for a conditional distribution of the observation, i.e. $p(x|z)$. Additionally, we use a unit Gaussian prior $p(z)$ for the latent variable.\n",
        "\n",
        "### Inference Network\n",
        "This defines an approximate posterior distribution $q(z|x)$, which takes as input an observation and outputs a set of parameters for the conditional distribution of the latent representation. In this example, we simply model this distribution as a diagonal Gaussian. In this case, the inference network outputs the mean and log-variance parameters of a factorized Gaussian (log-variance instead of the variance directly is for numerical stability).\n",
        "\n",
        "### Reparameterization Trick\n",
        "During optimization, we can sample from $q(z|x)$ by first sampling from a unit Gaussian, and then multiplying by the standard deviation and adding the mean. This ensures the gradients could pass through the sample to the inference network parameters.\n",
        "\n",
        "### Network architecture\n",
        "For the inference network, we use two convolutional layers followed by a fully-connected layer. In the generative network, we mirror this architecture by using a fully-connected layer followed by three convolution transpose layers (a.k.a. deconvolutional layers in some contexts). Note, it's common practice to avoid using batch normalization when training VAEs, since the additional stochasticity due to using mini-batches may aggravate instability on top of the stochasticity from sampling."
      ]
    },
    {
      "cell_type": "code",
      "metadata": {
        "id": "VGLbvBEmjK0a"
      },
      "source": [
        "class CVAE(tf.keras.Model):\n",
        "  def __init__(self, latent_dim):\n",
        "    super(CVAE, self).__init__()\n",
        "    self.latent_dim = latent_dim\n",
        "    self.inference_net = tf.keras.Sequential(\n",
        "      [\n",
        "          tf.keras.layers.InputLayer(input_shape=(28, 28, 1)),\n",
        "          tf.keras.layers.Conv2D(\n",
        "              filters=32, kernel_size=3, strides=(2, 2), activation='relu'),\n",
        "          tf.keras.layers.Conv2D(\n",
        "              filters=64, kernel_size=3, strides=(2, 2), activation='relu'),\n",
        "          tf.keras.layers.Flatten(),\n",
        "          # No activation\n",
        "          tf.keras.layers.Dense(latent_dim + latent_dim),\n",
        "      ]\n",
        "    )\n",
        "\n",
        "    self.generative_net = tf.keras.Sequential(\n",
        "        [\n",
        "          tf.keras.layers.InputLayer(input_shape=(latent_dim,)),\n",
        "          tf.keras.layers.Dense(units=7*7*32, activation=tf.nn.relu),\n",
        "          tf.keras.layers.Reshape(target_shape=(7, 7, 32)),\n",
        "          tf.keras.layers.Conv2DTranspose(\n",
        "              filters=64,\n",
        "              kernel_size=3,\n",
        "              strides=(2, 2),\n",
        "              padding=\"SAME\",\n",
        "              activation='relu'),\n",
        "          tf.keras.layers.Conv2DTranspose(\n",
        "              filters=32,\n",
        "              kernel_size=3,\n",
        "              strides=(2, 2),\n",
        "              padding=\"SAME\",\n",
        "              activation='relu'),\n",
        "          # No activation\n",
        "          tf.keras.layers.Conv2DTranspose(\n",
        "              filters=1, kernel_size=3, strides=(1, 1), padding=\"SAME\"),\n",
        "        ]\n",
        "    )\n",
        "\n",
        "  @tf.function\n",
        "  def sample(self, eps=None):\n",
        "    if eps is None:\n",
        "      eps = tf.random.normal(shape=(100, self.latent_dim))\n",
        "    return self.decode(eps, apply_sigmoid=True)\n",
        "\n",
        "  def encode(self, x):\n",
        "    mean, logvar = tf.split(self.inference_net(x), num_or_size_splits=2, axis=1)\n",
        "    return mean, logvar\n",
        "\n",
        "  def reparameterize(self, mean, logvar):\n",
        "    eps = tf.random.normal(shape=mean.shape)\n",
        "    return eps * tf.exp(logvar * .5) + mean\n",
        "\n",
        "  def decode(self, z, apply_sigmoid=False):\n",
        "    logits = self.generative_net(z)\n",
        "    if apply_sigmoid:\n",
        "      probs = tf.sigmoid(logits)\n",
        "      return probs\n",
        "\n",
        "    return logits"
      ],
      "execution_count": null,
      "outputs": []
    },
    {
      "cell_type": "markdown",
      "metadata": {
        "id": "0FMYgY_mPfTi"
      },
      "source": [
        "## Define the loss function and the optimizer\n",
        "\n",
        "VAEs train by maximizing the evidence lower bound (ELBO) on the marginal log-likelihood:\n",
        "\n",
        "$$\\log p(x) \\ge \\text{ELBO} = \\mathbb{E}_{q(z|x)}\\left[\\log \\frac{p(x, z)}{q(z|x)}\\right].$$\n",
        "\n",
        "In practice, we optimize the single sample Monte Carlo estimate of this expectation:\n",
        "\n",
        "$$\\log p(x| z) + \\log p(z) - \\log q(z|x),$$\n",
        "where $z$ is sampled from $q(z|x)$.\n",
        "\n",
        "**Note**: we could also analytically compute the KL term, but here we incorporate all three terms in the Monte Carlo estimator for simplicity."
      ]
    },
    {
      "cell_type": "code",
      "metadata": {
        "id": "iWCn_PVdEJZ7"
      },
      "source": [
        "optimizer = tf.keras.optimizers.Adam(1e-4)\n",
        "def log_normal_pdf(sample, mean, logvar, raxis=1):\n",
        "  log2pi = tf.math.log(2. * np.pi)\n",
        "  return tf.reduce_sum(\n",
        "      -.5 * ((sample - mean) ** 2. * tf.exp(-logvar) + logvar + log2pi),\n",
        "      axis=raxis)\n",
        "\n",
        "@tf.function\n",
        "def compute_loss(model, x):\n",
        "  mean, logvar = model.encode(x)\n",
        "  z = model.reparameterize(mean, logvar)\n",
        "  x_logit = model.decode(z)\n",
        "\n",
        "  cross_ent = tf.nn.sigmoid_cross_entropy_with_logits(logits=x_logit, labels=x)\n",
        "  logpx_z = -tf.reduce_sum(cross_ent, axis=[1, 2, 3])\n",
        "  logpz = log_normal_pdf(z, 0., 0.)\n",
        "  logqz_x = log_normal_pdf(z, mean, logvar)\n",
        "  return -tf.reduce_mean(logpx_z + logpz - logqz_x)\n",
        "\n",
        "@tf.function\n",
        "def compute_apply_gradients(model, x, optimizer):\n",
        "  with tf.GradientTape() as tape:\n",
        "    loss = compute_loss(model, x)\n",
        "  gradients = tape.gradient(loss, model.trainable_variables)\n",
        "  optimizer.apply_gradients(zip(gradients, model.trainable_variables))"
      ],
      "execution_count": null,
      "outputs": []
    },
    {
      "cell_type": "markdown",
      "metadata": {
        "id": "Rw1fkAczTQYh"
      },
      "source": [
        "## Training\n",
        "\n",
        "* We start by iterating over the dataset\n",
        "* During each iteration, we pass the image to the encoder to obtain a set of mean and log-variance parameters of the approximate posterior $q(z|x)$\n",
        "* We then apply the *reparameterization trick* to sample from $q(z|x)$\n",
        "* Finally, we pass the reparameterized samples to the decoder to obtain the logits of the generative distribution $p(x|z)$\n",
        "* **Note:** Since we use the dataset loaded by keras with 60k datapoints in the training set and 10k datapoints in the test set, our resulting ELBO on the test set is slightly higher than reported results in the literature which uses dynamic binarization of Larochelle's MNIST.\n",
        "\n",
        "## Generate Images\n",
        "\n",
        "* After training, it is time to generate some images\n",
        "* We start by sampling a set of latent vectors from the unit Gaussian prior distribution $p(z)$\n",
        "* The generator will then convert the latent sample $z$ to logits of the observation, giving a distribution $p(x|z)$\n",
        "* Here we plot the probabilities of Bernoulli distributions\n"
      ]
    },
    {
      "cell_type": "code",
      "metadata": {
        "id": "NS2GWywBbAWo"
      },
      "source": [
        "epochs = 150\n",
        "latent_dim = 16\n",
        "testing = False\n",
        "\n",
        "model = CVAE(latent_dim)"
      ],
      "execution_count": null,
      "outputs": []
    },
    {
      "cell_type": "code",
      "metadata": {
        "id": "2M7LmLtGEMQJ"
      },
      "source": [
        "if testing == False:\n",
        "  for epoch in range(1, epochs + 1):\n",
        "    start_time = time.time()\n",
        "    for train_x in train_dataset:\n",
        "      compute_apply_gradients(model, train_x, optimizer)\n",
        "    end_time = time.time()\n",
        "\n",
        "    if epoch % 1 == 0:\n",
        "      loss = tf.keras.metrics.Mean()\n",
        "      for test_x in test_dataset:\n",
        "        loss(compute_loss(model, test_x))\n",
        "      elbo = -loss.result()\n",
        "      print('Epoch: {}, Test set ELBO: {}, '\n",
        "            'time elapse for current epoch {}'.format(epoch,\n",
        "                                                      elbo,\n",
        "                                                      end_time - start_time))"
      ],
      "execution_count": null,
      "outputs": []
    },
    {
      "cell_type": "markdown",
      "metadata": {
        "id": "CESsMYg0qJO-"
      },
      "source": [
        "Test generating some images from randomly selected points in the latent space (matt's addition)"
      ]
    },
    {
      "cell_type": "code",
      "metadata": {
        "id": "rgLLBQwqpnk0"
      },
      "source": [
        "if testing == False:\n",
        "  tf.random.set_seed(1234)\n",
        "  latent_points = tf.random.normal(shape=[25, latent_dim])\n",
        "  output_points = model.sample(latent_points)\n",
        "  fig = plt.figure(figsize=(5,5))\n",
        "  fig.suptitle(\"Latent Space Digits, \" +  str(epochs) +\" epochs\", fontsize = 16)\n",
        "\n",
        "  for i in range(25):\n",
        "    epoch_img = plt.subplot(5, 5, i+1)\n",
        "    plt.imshow(output_points[i, :, :, 0], cmap='gray')\n",
        "    plt.axis('off')\n",
        "  fig.savefig(str(epochs)+\"_epochs.png\")\n",
        "  plt.show()\n"
      ],
      "execution_count": null,
      "outputs": []
    },
    {
      "cell_type": "markdown",
      "metadata": {
        "id": "HFpLXM4CHrtD"
      },
      "source": [
        "If trying to save output images for a specific range of epochs, this code will run instead of the above two."
      ]
    },
    {
      "cell_type": "code",
      "metadata": {
        "id": "vPoSlhZGRsWM"
      },
      "source": [
        "if testing:\n",
        "  latent_points = tf.random.normal(shape = [25, latent_dim])\n",
        "  get_epoch_img = 100\n",
        "  end_epochs = 2000\n",
        "\n",
        "  for epoch in range(1, end_epochs + 1):\n",
        "      for train_x in train_dataset:\n",
        "        compute_apply_gradients(model, train_x, optimizer)\n",
        "      \n",
        "      if epoch % 1 == 0:\n",
        "        loss = tf.keras.metrics.Mean()\n",
        "        for test_x in test_dataset:\n",
        "          loss(compute_loss(model, test_x))\n",
        "        elbo = -loss.result()\n",
        "        print('Epoch: {}'.format(epoch))\n",
        "      if epoch == get_epoch_img:\n",
        "\n",
        "        output_points = model.sample(latent_points)\n",
        "        print('Image generated at: {}'.format(epoch))\n",
        "\n",
        "        \n",
        "        fig = plt.figure(figsize=(5,5))\n",
        "        fig.suptitle(\"Latent Space Digits, \" +  str(epoch) +\" epochs\", fontsize = 16)\n",
        "\n",
        "        for i in range(25):\n",
        "          epoch_img = plt.subplot(5, 5, i+1)\n",
        "          plt.imshow(output_points[i, :, :, 0], cmap='gray')\n",
        "          plt.axis('off')\n",
        "        if epoch < 1000:\n",
        "          num = \"0\" + str(epoch)\n",
        "        else:\n",
        "          num = str(epoch)\n",
        "        fig.savefig(\"/content/\"+\"epochs_\"+num+\".png\")\n",
        "\n",
        "        get_epoch_img+=100\n",
        "\n",
        "#Generate gif from images...will not be in order (ie 225, 25, 250, 275, 300, 75)\n",
        "import os\n",
        "import imageio\n",
        "\n",
        "images = []\n",
        "\n",
        "directory = \"/content\"\n",
        "for filename in os.listdir(directory):\n",
        "    if filename.endswith(\".png\"):\n",
        "      images.append(imageio.imread(filename))\n",
        "\n",
        "imageio.mimsave(\"/content/\" + str(epoch)+\"_epochs.gif\", images)\n",
        "\n",
        "        \n",
        "\n"
      ],
      "execution_count": null,
      "outputs": []
    },
    {
      "cell_type": "markdown",
      "metadata": {
        "id": "4FQxxmHeDHPK"
      },
      "source": [
        "# Localization Code"
      ]
    },
    {
      "cell_type": "code",
      "metadata": {
        "id": "PQlHUhAb2jbM"
      },
      "source": [
        "import cvxopt\n",
        "\n",
        "from cvxopt import matrix\n",
        "from cvxopt import solvers\n",
        "\n",
        "def sum_square(X):\n",
        "    return sum(np.square(X))\n",
        "\n",
        "def localize(Data):\n",
        "    # Take an input Data, place into standard form\n",
        "    #Solve using cvxopt\n",
        "    \n",
        "    #%%  Problem data\n",
        "    k = Data.nComparisons\n",
        "    n = Data.nDims\n",
        "    \n",
        "    Xi = Data.Xi # 2 x k array\n",
        "    Xj = Data.Xj\n",
        "    \n",
        "    #%%  START OF LOCALIZATION FROM PAIRED COMPARISONS ############\n",
        "    \n",
        "    ##### SET UP P MATRIX\n",
        "    P = np.zeros((n+k,n+k))\n",
        "    P[0:n,0:n] = np.eye(n,n)\n",
        "    \n",
        "    ##### SET UP h MATRIX\n",
        "    b = sum_square(Xi) - sum_square(Xj)\n",
        "    b = b.reshape(1,k)\n",
        "    \n",
        "    b = b.transpose()\n",
        "    b = -b\n",
        "    h = np.vstack((b, np.zeros((k,1)))) #2k x 1 vector\n",
        "    \n",
        "    #%% set up G matrix\n",
        "    G11 = 2 * (Xj - Xi)\n",
        "    G11 = G11.transpose() # k x n\n",
        "    \n",
        "    G21 = np.zeros((k,n)) # k x n\n",
        "    \n",
        "    G12 = -1 * np.eye(k,k) # k x k\n",
        "    \n",
        "    G22 = -1 * np.eye(k,k)\n",
        "    \n",
        "    G1 = np.hstack([G11, G12])\n",
        "    G2 = np.hstack([G21, G22])\n",
        "    \n",
        "    G = np.vstack([G1,G2])\n",
        "    #%% set up q matrix (n + k x 1)\n",
        "    q1 = np.zeros((n,1))\n",
        "    q2 = np.ones((k,1))\n",
        "    q = np.vstack([q1,q2])\n",
        "    \n",
        "    #%% Now convert into cvxopt matrix form\n",
        "    \n",
        "    P = matrix(P)\n",
        "    q = matrix(q)\n",
        "    G = matrix(G)\n",
        "    h = matrix(h)\n",
        "    \n",
        "    sol=cvxopt.solvers.qp(P, q, G, h)\n",
        "    return sol"
      ],
      "execution_count": null,
      "outputs": []
    },
    {
      "cell_type": "markdown",
      "metadata": {
        "id": "PK9hDy3ODQxt"
      },
      "source": [
        "# Data Generation"
      ]
    },
    {
      "cell_type": "code",
      "metadata": {
        "id": "qhCKPSgwhsms"
      },
      "source": [
        "# Similar to data object produced by MATLAB\n",
        "class ComparisonData:\n",
        "  def __init__(self, nComparisons, nDims):\n",
        "    self.nComparisons = nComparisons\n",
        "    self.nDims = nDims\n",
        "    self.Xi = np.zeros((nDims, nComparisons))\n",
        "    self.Xj = np.zeros((nDims, nComparisons))"
      ],
      "execution_count": null,
      "outputs": []
    },
    {
      "cell_type": "markdown",
      "metadata": {
        "id": "5qGXPjkyD1Nt"
      },
      "source": [
        "Code below actually generates images from random points in latent space and prompts the user to compare them. \n",
        "\n",
        "Enter '1' if the image on the left is closer to your desired image than the one on the right. Enter anything else otherwise. "
      ]
    },
    {
      "cell_type": "code",
      "metadata": {
        "id": "xq8dUHVi44YY"
      },
      "source": [
        "def generate_image(model, test_input):\n",
        "  predictions = model.sample(test_input)\n",
        "  fig = plt.figure(figsize=(5,5)) # doesn't really have to be 5 by 5\n",
        "\n",
        "  for i in range(predictions.shape[0]):\n",
        "      plt.subplot(5, 5, i+1)\n",
        "      plt.imshow(predictions[i, :, :, 0], cmap='gray')\n",
        "      plt.axis('off')\n",
        "\n",
        "  plt.show()"
      ],
      "execution_count": null,
      "outputs": []
    },
    {
      "cell_type": "code",
      "metadata": {
        "id": "S-6K6JSA1Fts"
      },
      "source": [
        "# Generate and label data \n",
        "nComparisons = 100\n",
        "data = ComparisonData(nComparisons, latent_dim)\n",
        "\n",
        "for i in range(data.nComparisons):\n",
        "  paired_points = tf.random.normal(shape=[2, data.nDims])\n",
        "  generate_image(model, paired_points)\n",
        "  \n",
        "  closer = input();\n",
        "  if closer == 1:\n",
        "    data.Xi[:, i] = paired_points[0];\n",
        "    data.Xj[:, i] = paired_points[1];\n",
        "  else:\n",
        "    data.Xi[:, i] = paired_points[1];\n",
        "    data.Xj[:, i] = paired_points[0];"
      ],
      "execution_count": null,
      "outputs": []
    },
    {
      "cell_type": "markdown",
      "metadata": {
        "id": "-kfhX4vdFfgr"
      },
      "source": [
        "##Solve localization and show target image"
      ]
    },
    {
      "cell_type": "code",
      "metadata": {
        "id": "JhAhiXAAuqAS"
      },
      "source": [
        "sol = localize(data)\n",
        "point = sol['x'][:data.nDims]\n",
        "point = np.array(point)\n",
        "point.shape = (1, data.nDims)"
      ],
      "execution_count": null,
      "outputs": []
    },
    {
      "cell_type": "code",
      "metadata": {
        "id": "nrEPwW-J59zi"
      },
      "source": [
        "generate_image(model, point)"
      ],
      "execution_count": null,
      "outputs": []
    },
    {
      "cell_type": "code",
      "metadata": {
        "id": "FaNuSG3snonf"
      },
      "source": [
        "def plot_embedding(X, title=None):\n",
        "    y = train_labels[indeces]\n",
        "    x_min, x_max = np.min(X, 0), np.max(X, 0)\n",
        "    X = (X - x_min) / (x_max - x_min)\n",
        "\n",
        "    plt.figure()\n",
        "    ax = plt.subplot(111)\n",
        "    for i in range(X.shape[0]):\n",
        "        plt.text(X[i, 0], X[i, 1], str(y[i]),\n",
        "                 color=plt.cm.Set1(y[i] / 10.),\n",
        "                 fontdict={'weight': 'bold', 'size': 9})\n",
        "\n",
        "    if hasattr(offsetbox, 'AnnotationBbox'):\n",
        "        # only print thumbnails with matplotlib > 1.0\n",
        "        shown_images = np.array([[1., 1.]])  # just something big\n",
        "        for i in range(X.shape[0]):\n",
        "            dist = np.sum((X[i] - shown_images) ** 2, 1)\n",
        "            if np.min(dist) < 4e-3:\n",
        "                # don't show points that are too close\n",
        "                continue\n",
        "            shown_images = np.r_[shown_images, [X[i]]]\n",
        "            # imagebox = offsetbox.AnnotationBbox(\n",
        "            #     offsetbox.OffsetImage(train_images[i], cmap=plt.cm.gray_r),\n",
        "            #     X[i])\n",
        "            # ax.add_artist(imagebox)\n",
        "    plt.xticks([]), plt.yticks([])\n",
        "    if title is not None:\n",
        "        plt.title(title)"
      ],
      "execution_count": null,
      "outputs": []
    },
    {
      "cell_type": "code",
      "metadata": {
        "id": "xl1kUHB3m_bb"
      },
      "source": [
        "# pick n elements from train data to visualize\n",
        "# takes too long to compute for all\n",
        "n = 1000\n",
        "indeces = np.random.choice(train_images.shape[0], n, replace=False)\n",
        "X = np.reshape(train_images, (60000, 28*28))\n",
        "X = X[indeces, :]\n",
        "tsne = manifold.TSNE(n_components=2, init='pca', random_state=0)\n",
        "X_tsne = tsne.fit_transform(X)\n",
        "# y = train_labels[indeces]\n",
        "plot_embedding(X_tsne, \"t-SNE embedding of the digits in image space\")"
      ],
      "execution_count": null,
      "outputs": []
    },
    {
      "cell_type": "code",
      "metadata": {
        "id": "piCkSLEDBDzM"
      },
      "source": [
        "mean, logvar = model.encode(train_images[indeces])\n",
        "z = model.reparameterize(mean, logvar)\n",
        "z_tsne = tsne.fit_transform(z)\n",
        "plot_embedding(z_tsne, \"t-SNE embedding of the digits in latent space\")"
      ],
      "execution_count": null,
      "outputs": []
    }
  ]
}